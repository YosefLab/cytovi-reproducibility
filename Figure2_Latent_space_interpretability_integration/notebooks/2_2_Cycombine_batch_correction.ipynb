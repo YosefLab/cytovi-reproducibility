{
 "cells": [
  {
   "cell_type": "markdown",
   "metadata": {},
   "source": [
    "# Batch correction of Nunez et al using Cycombine"
   ]
  },
  {
   "cell_type": "code",
   "execution_count": 1,
   "metadata": {
    "vscode": {
     "languageId": "r"
    }
   },
   "outputs": [
    {
     "name": "stderr",
     "output_type": "stream",
     "text": [
      "\n",
      "Attaching package: ‘dplyr’\n",
      "\n",
      "\n",
      "The following objects are masked from ‘package:stats’:\n",
      "\n",
      "    filter, lag\n",
      "\n",
      "\n",
      "The following objects are masked from ‘package:base’:\n",
      "\n",
      "    intersect, setdiff, setequal, union\n",
      "\n",
      "\n"
     ]
    }
   ],
   "source": [
    "library(dplyr)\n",
    "library(cyCombine)"
   ]
  },
  {
   "cell_type": "code",
   "execution_count": 2,
   "metadata": {
    "vscode": {
     "languageId": "r"
    }
   },
   "outputs": [],
   "source": [
    "# load data\n",
    "expr  <- read.csv('/home/labs/amit/floriani/Lab/PROJECTS/FlowVI/data/2024-01-16_model_eval_multi_batch/2024-06-05_aurora_batch_figure_expression.csv')[, -1]\n",
    "md  <- read.csv('/home/labs/amit/floriani/Lab/PROJECTS/FlowVI/data/2024-01-16_model_eval_multi_batch/2024-06-05_aurora_batch_figure_obs.csv')[, -1]\n",
    "\n",
    "markers  <- colnames(expr)"
   ]
  },
  {
   "cell_type": "code",
   "execution_count": null,
   "metadata": {
    "vscode": {
     "languageId": "r"
    }
   },
   "outputs": [],
   "source": [
    "# run CyCombine on minmax scaled data\n",
    "expr[,'batch']  <- md$batch\n",
    "expr[,'sample']  <- md$sample_id\n",
    "\n",
    "labels  <- expr %>% \n",
    "    create_som(markers = markers, rlen = 10)\n",
    "\n",
    "corrected <- expr %>%\n",
    "    correct_data(label = labels, markers = markers)\n",
    "\n",
    "# write to disk\n",
    "write.csv(corrected[,markers], file = '/home/labs/amit/floriani/Lab/PROJECTS/FlowVI/data/2024-01-16_model_eval_multi_batch/2024-06-05_aurora_batch_figure_expression_cycombine_corr.csv')"
   ]
  },
  {
   "cell_type": "markdown",
   "metadata": {},
   "source": [
    "# repeat but this time also do the scaling in cycombine"
   ]
  },
  {
   "cell_type": "code",
   "execution_count": 4,
   "metadata": {
    "vscode": {
     "languageId": "r"
    }
   },
   "outputs": [],
   "source": [
    "expr_trans  <- read.csv('/home/labs/amit/floriani/Lab/PROJECTS/FlowVI/data/2024-01-16_model_eval_multi_batch/2024-06-05_aurora_batch_figure_expression_transformed.csv')[, -1]"
   ]
  },
  {
   "cell_type": "code",
   "execution_count": 5,
   "metadata": {
    "vscode": {
     "languageId": "r"
    }
   },
   "outputs": [
    {
     "name": "stderr",
     "output_type": "stream",
     "text": [
      "Scaling expression data..\n",
      "\n"
     ]
    }
   ],
   "source": [
    "# standard scale expressiion and save\n",
    "expr_trans[,'batch']  <- md$batch\n",
    "expr_trans[,'sample']  <- md$sample_id\n",
    "\n",
    "expr_standard_scaled  <- expr_trans %>% \n",
    "    normalize(markers = markers, norm_method = 'scale')\n",
    "\n",
    "write.csv(expr_standard_scaled[,markers], file = '/home/labs/amit/floriani/Lab/PROJECTS/FlowVI/data/2024-01-16_model_eval_multi_batch/2024-06-05_aurora_batch_figure_expression_cycombine_standard_scaled.csv')"
   ]
  },
  {
   "cell_type": "code",
   "execution_count": null,
   "metadata": {
    "vscode": {
     "languageId": "r"
    }
   },
   "outputs": [],
   "source": [
    "# run CyCombine\n",
    "labels_trans  <- expr_trans %>% \n",
    "    normalize(markers = markers, norm_method = 'scale') %>%\n",
    "    create_som(markers = markers, rlen = 10)\n",
    "\n",
    "corrected_scaled <- expr_trans %>%\n",
    "    correct_data(label = labels_trans, markers = markers)\n",
    "\n",
    "# normalize corrected data\n",
    "corrected_scaled_norm  <- corrected_scaled %>%\n",
    "    normalize(markers = markers, norm_method = 'scale')\n",
    "\n",
    "# write to disk\n",
    "write.csv(corrected_scaled_norm[,markers], file = '/home/labs/amit/floriani/Lab/PROJECTS/FlowVI/data/2024-01-16_model_eval_multi_batch/2024-06-05_aurora_batch_figure_expression_cycombine_corr_scaled.csv')"
   ]
  },
  {
   "cell_type": "markdown",
   "metadata": {},
   "source": [
    "# run with rank based norm"
   ]
  },
  {
   "cell_type": "code",
   "execution_count": 7,
   "metadata": {
    "vscode": {
     "languageId": "r"
    }
   },
   "outputs": [
    {
     "name": "stderr",
     "output_type": "stream",
     "text": [
      "Ranking expression data..\n",
      "\n"
     ]
    }
   ],
   "source": [
    "# rank scale and save\n",
    "expr_rank_scaled  <- expr_trans %>% \n",
    "    normalize(markers = markers, norm_method = 'rank')\n",
    "\n",
    "write.csv(expr_rank_scaled[,markers], file = '/home/labs/amit/floriani/Lab/PROJECTS/FlowVI/data/2024-01-16_model_eval_multi_batch/2024-06-05_aurora_batch_figure_expression_cycombine_rank_scaled.csv')"
   ]
  },
  {
   "cell_type": "code",
   "execution_count": null,
   "metadata": {
    "vscode": {
     "languageId": "r"
    }
   },
   "outputs": [],
   "source": [
    "# run CyCombine\n",
    "labels_trans  <- expr_trans %>% \n",
    "    normalize(markers = markers, norm_method = 'rank') %>%\n",
    "    create_som(markers = markers, rlen = 10)\n",
    "\n",
    "corrected_rank <- expr_trans %>%\n",
    "    correct_data(label = labels_trans, markers = markers)\n",
    "\n",
    "corrected_rank_norm  <- corrected_rank %>% \n",
    "    normalize(markers = markers, norm_method = 'rank')\n",
    "\n",
    "write.csv(corrected_rank_norm[,markers], file = '/home/labs/amit/floriani/Lab/PROJECTS/FlowVI/data/2024-01-16_model_eval_multi_batch/2024-06-05_aurora_batch_figure_expression_cycombine_corr_rank.csv')"
   ]
  }
 ],
 "metadata": {
  "kernelspec": {
   "display_name": "R",
   "language": "R",
   "name": "ir"
  },
  "language_info": {
   "codemirror_mode": "r",
   "file_extension": ".r",
   "mimetype": "text/x-r-source",
   "name": "R",
   "pygments_lexer": "r",
   "version": "4.1.2"
  }
 },
 "nbformat": 4,
 "nbformat_minor": 2
}
