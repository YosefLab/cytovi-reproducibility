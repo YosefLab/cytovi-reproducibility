{
 "cells": [
  {
   "cell_type": "markdown",
   "metadata": {},
   "source": [
    "# Train a totalVI model on CITE-seq and impute expression"
   ]
  },
  {
   "cell_type": "code",
   "execution_count": 49,
   "metadata": {},
   "outputs": [],
   "source": [
    "import scvi\n",
    "import scanpy as sc\n",
    "import anndata as ad\n",
    "import pandas as pd\n",
    "import matplotlib.pyplot as plt\n",
    "import mudata as md"
   ]
  },
  {
   "cell_type": "code",
   "execution_count": null,
   "metadata": {},
   "outputs": [],
   "source": [
    "citeseq_data_dir = '/home/projects/amit/floriani/Lab/PROJECTS/FlowVI/data/raw/CITE_seq/BNHL/'\n",
    "adata_citeseq_rna = ad.read_h5ad(citeseq_data_dir + '2024-11-06_BNHL_CITEseq_Tcells_RNA.h5ad')\n",
    "adata_citeseq_prot = ad.read_h5ad(citeseq_data_dir + '2024-12-05_BNHL_CITEseq_Tcells_protein_cleaned_integrated_imputed_arcsinh_BB.h5ad')"
   ]
  },
  {
   "cell_type": "code",
   "execution_count": null,
   "metadata": {},
   "outputs": [
    {
     "name": "stderr",
     "output_type": "stream",
     "text": [
      "/home/projects/amit/floriani/mambaforge/envs/cytovi_gpu/lib/python3.12/site-packages/mudata/_core/mudata.py:1531: FutureWarning: From 0.4 .update() will not pull obs/var columns from individual modalities by default anymore. Set mudata.set_options(pull_on_update=False) to adopt the new behaviour, which will become the default. Use new pull_obs/pull_var and push_obs/push_var methods for more flexibility.\n",
      "  self._update_attr(\"var\", axis=0, join_common=join_common)\n",
      "/home/projects/amit/floriani/mambaforge/envs/cytovi_gpu/lib/python3.12/site-packages/mudata/_core/mudata.py:931: UserWarning: Cannot join columns with the same name because var_names are intersecting.\n",
      "  warnings.warn(\n",
      "/home/projects/amit/floriani/mambaforge/envs/cytovi_gpu/lib/python3.12/site-packages/mudata/_core/mudata.py:1429: FutureWarning: From 0.4 .update() will not pull obs/var columns from individual modalities by default anymore. Set mudata.set_options(pull_on_update=False) to adopt the new behaviour, which will become the default. Use new pull_obs/pull_var and push_obs/push_var methods for more flexibility.\n",
      "  self._update_attr(\"obs\", axis=1, join_common=join_common)\n"
     ]
    },
    {
     "data": {
      "text/html": [
       "<pre>MuData object with n_obs × n_vars = 72721 × 36671\n",
       "  2 modalities\n",
       "    rna:\t72721 x 36601\n",
       "      obs:\t&#x27;nCount_RNA&#x27;, &#x27;nFeature_RNA&#x27;, &#x27;nCount_ADT&#x27;, &#x27;nFeature_ADT&#x27;, &#x27;percent.mt&#x27;, &#x27;PatientID&#x27;, &#x27;Run&#x27;, &#x27;Entity&#x27;, &#x27;Age&#x27;, &#x27;Sex&#x27;, &#x27;Barcode_full&#x27;, &#x27;Phase&#x27;, &#x27;RNAclusters_res0.4&#x27;, &#x27;ADTclusters_res0.4&#x27;, &#x27;Stage&#x27;, &#x27;PTCategory&#x27;, &#x27;PTRegimen&#x27;, &#x27;PTCycles&#x27;, &#x27;PTDuration&#x27;, &#x27;DaysSincePT&#x27;, &#x27;PTIndication&#x27;, &#x27;PTResponse&#x27;, &#x27;FTCategory&#x27;, &#x27;FTRegimen&#x27;, &#x27;FTCycles&#x27;, &#x27;FTDuration&#x27;, &#x27;DaysUntilFT&#x27;, &#x27;FTIndication&#x27;, &#x27;FTResponse&#x27;, &#x27;Survival&#x27;, &#x27;DaysFollowup&#x27;, &#x27;Status&#x27;, &#x27;Karnofsky&#x27;, &#x27;Idents_res0.4&#x27;, &#x27;RNAclusters_res1&#x27;, &#x27;Idents_res1&#x27;, &#x27;Idents_res1_full&#x27;, &#x27;Maturation_M&#x27;, &#x27;predicted.Maturation.score&#x27;, &#x27;predicted.Maturation&#x27;, &#x27;MOFAclusters_res0.5&#x27;, &#x27;MOFAclusters_res1&#x27;, &#x27;MAPKscore&#x27;, &#x27;DZ.a.UPscore&#x27;, &#x27;DZ.a.DWNscore&#x27;, &#x27;DZ.b.UPscore&#x27;, &#x27;DZ.b.DWNscore&#x27;, &#x27;DZ.c.UPscore&#x27;, &#x27;DZ.c.DWNscore&#x27;, &#x27;INT.a.UPscore&#x27;, &#x27;INT.a.DWNscore&#x27;, &#x27;INT.b.UPscore&#x27;, &#x27;INT.b.DWNscore&#x27;, &#x27;INT.c.UPscore&#x27;, &#x27;INT.c.DWNscore&#x27;, &#x27;INT.d.UPscore&#x27;, &#x27;INT.d.DWNscore&#x27;, &#x27;INT.e.UPscore&#x27;, &#x27;INT.e.DWNscore&#x27;, &#x27;LZ.a.UPscore&#x27;, &#x27;LZ.a.DWNscore&#x27;, &#x27;LZ.b.UPscore&#x27;, &#x27;LZ.b.DWNscore&#x27;, &#x27;PreM.UPscore&#x27;, &#x27;PreM.DWNscore&#x27;, &#x27;PBL.a.UPscore&#x27;, &#x27;PBL.a.DWNscore&#x27;, &#x27;PBL.b.UPscore&#x27;, &#x27;PBL.b.DWNscore&#x27;, &#x27;predicted.Maturation.bulk&#x27;, &#x27;predicted.Maturation_course.score&#x27;, &#x27;predicted.Maturation_course&#x27;, &#x27;predicted.Maturation_fine.score&#x27;, &#x27;predicted.Maturation_fine&#x27;, &#x27;KLR&#x27;, &#x27;MOFAclusters_clean&#x27;, &#x27;Malignancy&#x27;, &#x27;State&#x27;, &#x27;nCount_scenic&#x27;, &#x27;nFeature_scenic&#x27;, &#x27;Relapse&#x27;, &#x27;DaysDiagnosed&#x27;, &#x27;CellType&#x27;, &#x27;Subtype&#x27;, &#x27;Barcode&#x27;, &#x27;S.Score&#x27;, &#x27;G2M.Score&#x27;, &#x27;seurat_clusters&#x27;, &#x27;CT_rnaCluster&#x27;, &#x27;integratedRNA_snn_res.0.4&#x27;, &#x27;integratedADT_snn_res.0.4&#x27;, &#x27;integratedRNA_snn_res.1&#x27;, &#x27;integratedADT_snn_res.0.8&#x27;, &#x27;integratedADT_snn_res.0.6&#x27;, &#x27;RNA.weight&#x27;, &#x27;ADT.weight&#x27;, &#x27;wsnn_res.0.7&#x27;, &#x27;wsnn_res.1&#x27;, &#x27;wsnn_res.1.4&#x27;, &#x27;IdentI_old&#x27;, &#x27;integratedADT_snn_res.1&#x27;, &#x27;integratedADT_snn_res.1.2&#x27;, &#x27;integratedADT_snn_res.1.4&#x27;, &#x27;integratedADT_snn_res.1.6&#x27;, &#x27;Ident_ADT&#x27;, &#x27;IdentI&#x27;, &#x27;orig.ident&#x27;, &#x27;RNA_snn_res.0.4&#x27;, &#x27;RNA_snn_res.0.5&#x27;, &#x27;RNA_snn_res.0.3&#x27;, &#x27;RNA_snn_res.0.2&#x27;, &#x27;SampleID&#x27;\n",
       "      var:\t&#x27;highly_variable&#x27;, &#x27;means&#x27;, &#x27;dispersions&#x27;, &#x27;dispersions_norm&#x27;\n",
       "      uns:\t&#x27;CellType_colors&#x27;, &#x27;Run_colors&#x27;, &#x27;hvg&#x27;, &#x27;log1p&#x27;, &#x27;neighbors&#x27;, &#x27;pca&#x27;, &#x27;umap&#x27;\n",
       "      obsm:\t&#x27;X_pca&#x27;, &#x27;X_umap&#x27;\n",
       "      varm:\t&#x27;PCs&#x27;\n",
       "      layers:\t&#x27;counts&#x27;, &#x27;normalized&#x27;\n",
       "      obsp:\t&#x27;connectivities&#x27;, &#x27;distances&#x27;\n",
       "    protein:\t72721 x 70\n",
       "      obs:\t&#x27;nCount_RNA&#x27;, &#x27;nFeature_RNA&#x27;, &#x27;nCount_ADT&#x27;, &#x27;nFeature_ADT&#x27;, &#x27;percent.mt&#x27;, &#x27;PatientID&#x27;, &#x27;Run&#x27;, &#x27;Entity&#x27;, &#x27;Age&#x27;, &#x27;Sex&#x27;, &#x27;Barcode_full&#x27;, &#x27;Phase&#x27;, &#x27;RNAclusters_res0.4&#x27;, &#x27;ADTclusters_res0.4&#x27;, &#x27;Stage&#x27;, &#x27;PTCategory&#x27;, &#x27;PTRegimen&#x27;, &#x27;PTCycles&#x27;, &#x27;PTDuration&#x27;, &#x27;DaysSincePT&#x27;, &#x27;PTIndication&#x27;, &#x27;PTResponse&#x27;, &#x27;FTCategory&#x27;, &#x27;FTRegimen&#x27;, &#x27;FTCycles&#x27;, &#x27;FTDuration&#x27;, &#x27;DaysUntilFT&#x27;, &#x27;FTIndication&#x27;, &#x27;FTResponse&#x27;, &#x27;Survival&#x27;, &#x27;DaysFollowup&#x27;, &#x27;Status&#x27;, &#x27;Karnofsky&#x27;, &#x27;Idents_res0.4&#x27;, &#x27;RNAclusters_res1&#x27;, &#x27;Idents_res1&#x27;, &#x27;Idents_res1_full&#x27;, &#x27;Maturation_M&#x27;, &#x27;predicted.Maturation.score&#x27;, &#x27;predicted.Maturation&#x27;, &#x27;MOFAclusters_res0.5&#x27;, &#x27;MOFAclusters_res1&#x27;, &#x27;MAPKscore&#x27;, &#x27;DZ.a.UPscore&#x27;, &#x27;DZ.a.DWNscore&#x27;, &#x27;DZ.b.UPscore&#x27;, &#x27;DZ.b.DWNscore&#x27;, &#x27;DZ.c.UPscore&#x27;, &#x27;DZ.c.DWNscore&#x27;, &#x27;INT.a.UPscore&#x27;, &#x27;INT.a.DWNscore&#x27;, &#x27;INT.b.UPscore&#x27;, &#x27;INT.b.DWNscore&#x27;, &#x27;INT.c.UPscore&#x27;, &#x27;INT.c.DWNscore&#x27;, &#x27;INT.d.UPscore&#x27;, &#x27;INT.d.DWNscore&#x27;, &#x27;INT.e.UPscore&#x27;, &#x27;INT.e.DWNscore&#x27;, &#x27;LZ.a.UPscore&#x27;, &#x27;LZ.a.DWNscore&#x27;, &#x27;LZ.b.UPscore&#x27;, &#x27;LZ.b.DWNscore&#x27;, &#x27;PreM.UPscore&#x27;, &#x27;PreM.DWNscore&#x27;, &#x27;PBL.a.UPscore&#x27;, &#x27;PBL.a.DWNscore&#x27;, &#x27;PBL.b.UPscore&#x27;, &#x27;PBL.b.DWNscore&#x27;, &#x27;predicted.Maturation.bulk&#x27;, &#x27;predicted.Maturation_course.score&#x27;, &#x27;predicted.Maturation_course&#x27;, &#x27;predicted.Maturation_fine.score&#x27;, &#x27;predicted.Maturation_fine&#x27;, &#x27;KLR&#x27;, &#x27;MOFAclusters_clean&#x27;, &#x27;Malignancy&#x27;, &#x27;State&#x27;, &#x27;nCount_scenic&#x27;, &#x27;nFeature_scenic&#x27;, &#x27;Relapse&#x27;, &#x27;DaysDiagnosed&#x27;, &#x27;CellType&#x27;, &#x27;Subtype&#x27;, &#x27;Barcode&#x27;, &#x27;S.Score&#x27;, &#x27;G2M.Score&#x27;, &#x27;seurat_clusters&#x27;, &#x27;CT_rnaCluster&#x27;, &#x27;integratedRNA_snn_res.0.4&#x27;, &#x27;integratedADT_snn_res.0.4&#x27;, &#x27;integratedRNA_snn_res.1&#x27;, &#x27;integratedADT_snn_res.0.8&#x27;, &#x27;integratedADT_snn_res.0.6&#x27;, &#x27;RNA.weight&#x27;, &#x27;ADT.weight&#x27;, &#x27;wsnn_res.0.7&#x27;, &#x27;wsnn_res.1&#x27;, &#x27;wsnn_res.1.4&#x27;, &#x27;IdentI_old&#x27;, &#x27;integratedADT_snn_res.1&#x27;, &#x27;integratedADT_snn_res.1.2&#x27;, &#x27;integratedADT_snn_res.1.4&#x27;, &#x27;integratedADT_snn_res.1.6&#x27;, &#x27;Ident_ADT&#x27;, &#x27;IdentI&#x27;, &#x27;orig.ident&#x27;, &#x27;RNA_snn_res.0.4&#x27;, &#x27;RNA_snn_res.0.5&#x27;, &#x27;RNA_snn_res.0.3&#x27;, &#x27;RNA_snn_res.0.2&#x27;, &#x27;SampleID&#x27;, &#x27;_scvi_batch&#x27;, &#x27;_scvi_labels&#x27;, &#x27;_scvi_sample_id&#x27;\n",
       "      uns:\t&#x27;CellType_colors&#x27;, &#x27;Run_colors&#x27;, &#x27;_scvi_manager_uuid&#x27;, &#x27;_scvi_uuid&#x27;, &#x27;neighbors&#x27;, &#x27;pca&#x27;, &#x27;umap&#x27;\n",
       "      obsm:\t&#x27;X_CytoVI&#x27;, &#x27;X_pca&#x27;, &#x27;X_umap&#x27;\n",
       "      varm:\t&#x27;PCs&#x27;\n",
       "      layers:\t&#x27;imputed&#x27;, &#x27;raw&#x27;, &#x27;scaled&#x27;, &#x27;transformed&#x27;\n",
       "      obsp:\t&#x27;connectivities&#x27;, &#x27;distances&#x27;</pre>"
      ],
      "text/plain": [
       "MuData object with n_obs × n_vars = 72721 × 36671\n",
       "  2 modalities\n",
       "    rna:\t72721 x 36601\n",
       "      obs:\t'nCount_RNA', 'nFeature_RNA', 'nCount_ADT', 'nFeature_ADT', 'percent.mt', 'PatientID', 'Run', 'Entity', 'Age', 'Sex', 'Barcode_full', 'Phase', 'RNAclusters_res0.4', 'ADTclusters_res0.4', 'Stage', 'PTCategory', 'PTRegimen', 'PTCycles', 'PTDuration', 'DaysSincePT', 'PTIndication', 'PTResponse', 'FTCategory', 'FTRegimen', 'FTCycles', 'FTDuration', 'DaysUntilFT', 'FTIndication', 'FTResponse', 'Survival', 'DaysFollowup', 'Status', 'Karnofsky', 'Idents_res0.4', 'RNAclusters_res1', 'Idents_res1', 'Idents_res1_full', 'Maturation_M', 'predicted.Maturation.score', 'predicted.Maturation', 'MOFAclusters_res0.5', 'MOFAclusters_res1', 'MAPKscore', 'DZ.a.UPscore', 'DZ.a.DWNscore', 'DZ.b.UPscore', 'DZ.b.DWNscore', 'DZ.c.UPscore', 'DZ.c.DWNscore', 'INT.a.UPscore', 'INT.a.DWNscore', 'INT.b.UPscore', 'INT.b.DWNscore', 'INT.c.UPscore', 'INT.c.DWNscore', 'INT.d.UPscore', 'INT.d.DWNscore', 'INT.e.UPscore', 'INT.e.DWNscore', 'LZ.a.UPscore', 'LZ.a.DWNscore', 'LZ.b.UPscore', 'LZ.b.DWNscore', 'PreM.UPscore', 'PreM.DWNscore', 'PBL.a.UPscore', 'PBL.a.DWNscore', 'PBL.b.UPscore', 'PBL.b.DWNscore', 'predicted.Maturation.bulk', 'predicted.Maturation_course.score', 'predicted.Maturation_course', 'predicted.Maturation_fine.score', 'predicted.Maturation_fine', 'KLR', 'MOFAclusters_clean', 'Malignancy', 'State', 'nCount_scenic', 'nFeature_scenic', 'Relapse', 'DaysDiagnosed', 'CellType', 'Subtype', 'Barcode', 'S.Score', 'G2M.Score', 'seurat_clusters', 'CT_rnaCluster', 'integratedRNA_snn_res.0.4', 'integratedADT_snn_res.0.4', 'integratedRNA_snn_res.1', 'integratedADT_snn_res.0.8', 'integratedADT_snn_res.0.6', 'RNA.weight', 'ADT.weight', 'wsnn_res.0.7', 'wsnn_res.1', 'wsnn_res.1.4', 'IdentI_old', 'integratedADT_snn_res.1', 'integratedADT_snn_res.1.2', 'integratedADT_snn_res.1.4', 'integratedADT_snn_res.1.6', 'Ident_ADT', 'IdentI', 'orig.ident', 'RNA_snn_res.0.4', 'RNA_snn_res.0.5', 'RNA_snn_res.0.3', 'RNA_snn_res.0.2', 'SampleID'\n",
       "      var:\t'highly_variable', 'means', 'dispersions', 'dispersions_norm'\n",
       "      uns:\t'CellType_colors', 'Run_colors', 'hvg', 'log1p', 'neighbors', 'pca', 'umap'\n",
       "      obsm:\t'X_pca', 'X_umap'\n",
       "      varm:\t'PCs'\n",
       "      layers:\t'counts', 'normalized'\n",
       "      obsp:\t'connectivities', 'distances'\n",
       "    protein:\t72721 x 70\n",
       "      obs:\t'nCount_RNA', 'nFeature_RNA', 'nCount_ADT', 'nFeature_ADT', 'percent.mt', 'PatientID', 'Run', 'Entity', 'Age', 'Sex', 'Barcode_full', 'Phase', 'RNAclusters_res0.4', 'ADTclusters_res0.4', 'Stage', 'PTCategory', 'PTRegimen', 'PTCycles', 'PTDuration', 'DaysSincePT', 'PTIndication', 'PTResponse', 'FTCategory', 'FTRegimen', 'FTCycles', 'FTDuration', 'DaysUntilFT', 'FTIndication', 'FTResponse', 'Survival', 'DaysFollowup', 'Status', 'Karnofsky', 'Idents_res0.4', 'RNAclusters_res1', 'Idents_res1', 'Idents_res1_full', 'Maturation_M', 'predicted.Maturation.score', 'predicted.Maturation', 'MOFAclusters_res0.5', 'MOFAclusters_res1', 'MAPKscore', 'DZ.a.UPscore', 'DZ.a.DWNscore', 'DZ.b.UPscore', 'DZ.b.DWNscore', 'DZ.c.UPscore', 'DZ.c.DWNscore', 'INT.a.UPscore', 'INT.a.DWNscore', 'INT.b.UPscore', 'INT.b.DWNscore', 'INT.c.UPscore', 'INT.c.DWNscore', 'INT.d.UPscore', 'INT.d.DWNscore', 'INT.e.UPscore', 'INT.e.DWNscore', 'LZ.a.UPscore', 'LZ.a.DWNscore', 'LZ.b.UPscore', 'LZ.b.DWNscore', 'PreM.UPscore', 'PreM.DWNscore', 'PBL.a.UPscore', 'PBL.a.DWNscore', 'PBL.b.UPscore', 'PBL.b.DWNscore', 'predicted.Maturation.bulk', 'predicted.Maturation_course.score', 'predicted.Maturation_course', 'predicted.Maturation_fine.score', 'predicted.Maturation_fine', 'KLR', 'MOFAclusters_clean', 'Malignancy', 'State', 'nCount_scenic', 'nFeature_scenic', 'Relapse', 'DaysDiagnosed', 'CellType', 'Subtype', 'Barcode', 'S.Score', 'G2M.Score', 'seurat_clusters', 'CT_rnaCluster', 'integratedRNA_snn_res.0.4', 'integratedADT_snn_res.0.4', 'integratedRNA_snn_res.1', 'integratedADT_snn_res.0.8', 'integratedADT_snn_res.0.6', 'RNA.weight', 'ADT.weight', 'wsnn_res.0.7', 'wsnn_res.1', 'wsnn_res.1.4', 'IdentI_old', 'integratedADT_snn_res.1', 'integratedADT_snn_res.1.2', 'integratedADT_snn_res.1.4', 'integratedADT_snn_res.1.6', 'Ident_ADT', 'IdentI', 'orig.ident', 'RNA_snn_res.0.4', 'RNA_snn_res.0.5', 'RNA_snn_res.0.3', 'RNA_snn_res.0.2', 'SampleID', '_scvi_batch', '_scvi_labels', '_scvi_sample_id'\n",
       "      uns:\t'CellType_colors', 'Run_colors', '_scvi_manager_uuid', '_scvi_uuid', 'neighbors', 'pca', 'umap'\n",
       "      obsm:\t'X_CytoVI', 'X_pca', 'X_umap'\n",
       "      varm:\t'PCs'\n",
       "      layers:\t'imputed', 'raw', 'scaled', 'transformed'\n",
       "      obsp:\t'connectivities', 'distances'"
      ]
     },
     "execution_count": 5,
     "metadata": {},
     "output_type": "execute_result"
    }
   ],
   "source": [
    "# combine into mudata\n",
    "mdata = md.MuData({\"rna\": adata_citeseq_rna, \"protein\": adata_citeseq_prot})\n",
    "mdata"
   ]
  },
  {
   "cell_type": "code",
   "execution_count": null,
   "metadata": {},
   "outputs": [],
   "source": [
    "# compute HVG\n",
    "sc.pp.highly_variable_genes(\n",
    "    mdata.mod[\"rna\"],\n",
    "    n_top_genes=4000,\n",
    "    flavor=\"seurat_v3\",\n",
    "    batch_key=\"Run\",\n",
    "    layer=\"counts\",\n",
    ")\n",
    "# Place subsetted counts in a new modality\n",
    "mdata.mod[\"rna_subset\"] = mdata.mod[\"rna\"][:, mdata.mod[\"rna\"].var[\"highly_variable\"]].copy()\n",
    "\n",
    "mdata.update()"
   ]
  },
  {
   "cell_type": "code",
   "execution_count": null,
   "metadata": {},
   "outputs": [
    {
     "name": "stdout",
     "output_type": "stream",
     "text": [
      "\u001b[34mINFO    \u001b[0m Computing empirical prior initialization for protein background.                                          \n"
     ]
    },
    {
     "name": "stderr",
     "output_type": "stream",
     "text": [
      "/home/projects/amit/floriani/mambaforge/envs/cytovi_gpu/lib/python3.12/site-packages/scvi/data/fields/_layer_field.py:115: UserWarning: Training will be faster when sparse matrix is formatted as CSR. It is safe to cast before model initialization.\n",
      "  _verify_and_correct_data_format(adata, self.attr_name, self.attr_key)\n"
     ]
    }
   ],
   "source": [
    "# train totalVI model\n",
    "scvi.model.TOTALVI.setup_mudata(\n",
    "    mdata,\n",
    "    rna_layer=\"counts\",\n",
    "    protein_layer='raw',\n",
    "    batch_key=\"Run\",\n",
    "    modalities={\n",
    "        \"rna_layer\": \"rna_subset\",\n",
    "        \"protein_layer\": \"protein\",\n",
    "        \"batch_key\": \"rna_subset\",\n",
    "    },\n",
    ")\n",
    "model = scvi.model.TOTALVI(mdata)\n",
    "model.train(max_epochs = 50)\n",
    "\n",
    "model.save('/home/projects/amit/floriani/Lab/PROJECTS/FlowVI/models/BNHL/2025-01-17_CITEseq_TotalVI', overwrite=True)"
   ]
  },
  {
   "cell_type": "code",
   "execution_count": null,
   "metadata": {},
   "outputs": [],
   "source": [
    "# get latent\n",
    "rna = mdata.mod[\"rna_subset\"]\n",
    "protein = mdata.mod[\"protein\"]\n",
    "\n",
    "# arbitrarily store latent in rna modality\n",
    "TOTALVI_LATENT_KEY = \"X_totalVI\"\n",
    "rna.obsm[TOTALVI_LATENT_KEY] = model.get_latent_representation()"
   ]
  },
  {
   "cell_type": "code",
   "execution_count": null,
   "metadata": {},
   "outputs": [
    {
     "name": "stderr",
     "output_type": "stream",
     "text": [
      "/home/projects/amit/floriani/mambaforge/envs/cytovi_gpu/lib/python3.12/site-packages/mudata/_core/mudata.py:1531: FutureWarning: From 0.4 .update() will not pull obs/var columns from individual modalities by default anymore. Set mudata.set_options(pull_on_update=False) to adopt the new behaviour, which will become the default. Use new pull_obs/pull_var and push_obs/push_var methods for more flexibility.\n",
      "  self._update_attr(\"var\", axis=0, join_common=join_common)\n",
      "/home/projects/amit/floriani/mambaforge/envs/cytovi_gpu/lib/python3.12/site-packages/mudata/_core/mudata.py:1429: FutureWarning: From 0.4 .update() will not pull obs/var columns from individual modalities by default anymore. Set mudata.set_options(pull_on_update=False) to adopt the new behaviour, which will become the default. Use new pull_obs/pull_var and push_obs/push_var methods for more flexibility.\n",
      "  self._update_attr(\"obs\", axis=1, join_common=join_common)\n"
     ]
    }
   ],
   "source": [
    "# get batch corrected expression estimates\n",
    "all_batches = [*adata_citeseq_rna.obs['Run'].drop_duplicates().values]\n",
    "\n",
    "rna_denoised, protein_denoised = model.get_normalized_expression(\n",
    "    n_samples=10, return_mean=True, transform_batch=all_batches\n",
    ")\n",
    "rna.layers[\"denoised_rna\"] = rna_denoised\n",
    "protein.layers[\"denoised_protein\"] = protein_denoised\n",
    "\n",
    "protein.layers[\"protein_foreground_prob\"] = 100 * model.get_protein_foreground_probability(\n",
    "    n_samples=10, return_mean=True, transform_batch=all_batches\n",
    ")\n",
    "\n",
    "\n",
    "mdata.update()"
   ]
  },
  {
   "cell_type": "code",
   "execution_count": 43,
   "metadata": {},
   "outputs": [],
   "source": [
    "# save h5ad to disk\n",
    "rna.write(f'{citeseq_data_dir}2025-01-17_BNHL_CITEseq_combined_RNA_TotalVI_imputed.h5ad')\n",
    "protein.write(f'{citeseq_data_dir}2025-01-17_BNHL_CITEseq_Tcells_protein_cleaned_integrated_imputed_arcsinh_BB_TotalVI_imputed.h5ad')"
   ]
  }
 ],
 "metadata": {
  "kernelspec": {
   "display_name": "Python 3 (ipykernel)",
   "language": "python",
   "name": "python3"
  },
  "language_info": {
   "codemirror_mode": {
    "name": "ipython",
    "version": 3
   },
   "file_extension": ".py",
   "mimetype": "text/x-python",
   "name": "python",
   "nbconvert_exporter": "python",
   "pygments_lexer": "ipython3",
   "version": "3.12.7"
  }
 },
 "nbformat": 4,
 "nbformat_minor": 2
}
