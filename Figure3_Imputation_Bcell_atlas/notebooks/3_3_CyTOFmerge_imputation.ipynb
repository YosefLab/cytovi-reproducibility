{
 "cells": [
  {
   "cell_type": "markdown",
   "metadata": {},
   "source": [
    "# CyTOFmerge for imputation benchmarking"
   ]
  },
  {
   "cell_type": "code",
   "execution_count": 1,
   "metadata": {
    "vscode": {
     "languageId": "r"
    }
   },
   "outputs": [
    {
     "name": "stderr",
     "output_type": "stream",
     "text": [
      "\n",
      "Attaching package: ‘dplyr’\n",
      "\n",
      "\n",
      "The following objects are masked from ‘package:stats’:\n",
      "\n",
      "    filter, lag\n",
      "\n",
      "\n",
      "The following objects are masked from ‘package:base’:\n",
      "\n",
      "    intersect, setdiff, setequal, union\n",
      "\n",
      "\n"
     ]
    }
   ],
   "source": [
    "library(dplyr)"
   ]
  },
  {
   "cell_type": "code",
   "execution_count": 7,
   "metadata": {
    "vscode": {
     "languageId": "r"
    }
   },
   "outputs": [],
   "source": [
    "# revised CyTOFmerge function to combine two data.frames/matrices and handle edge cases\n",
    "CombineFCS <- function(FCS1.data, FCS2.data, arcsinhTrans = FALSE, cofactor = 5,\n",
    "                       k = 50, algorithm = \"kd_tree\") {\n",
    "  # ensure numeric matrices/data.frames\n",
    "  FCS1.data <- as.data.frame(FCS1.data); FCS2.data <- as.data.frame(FCS2.data)\n",
    "\n",
    "  VarNames1 <- colnames(FCS1.data); VarNames2 <- colnames(FCS2.data)\n",
    "\n",
    "  if (arcsinhTrans) {\n",
    "    FCS1.data[] <- lapply(FCS1.data, function(x) if (is.numeric(x)) asinh(x / cofactor) else x)\n",
    "    FCS2.data[] <- lapply(FCS2.data, function(x) if (is.numeric(x)) asinh(x / cofactor) else x)\n",
    "  }\n",
    "\n",
    "  # shared markers by name\n",
    "  Matches <- integer(length(VarNames1))\n",
    "  for (i in seq_along(VarNames1)) {\n",
    "    hit <- which(VarNames1[i] == VarNames2)\n",
    "    Matches[i] <- if (length(hit)) hit[1] else 0\n",
    "  }\n",
    "\n",
    "  Shared_Index <- which(Matches > 0L)\n",
    "  m <- length(Shared_Index)\n",
    "  if (m == 0L) stop(\"No shared markers found.\")\n",
    "\n",
    "  # reorder to [shared | non-shared]\n",
    "  Data1.nonshared <- if (m < ncol(FCS1.data)) FCS1.data[, -Shared_Index, drop = FALSE] else NULL\n",
    "  VarNames1.non   <- if (m < ncol(FCS1.data)) VarNames1[-Shared_Index] else character(0)\n",
    "\n",
    "  Data2.nonshared <- if (m < ncol(FCS2.data)) FCS2.data[, -Matches[Shared_Index], drop = FALSE] else NULL\n",
    "  VarNames2.non   <- if (m < ncol(FCS2.data)) VarNames2[-Matches[Shared_Index]] else character(0)\n",
    "\n",
    "  F1_shared <- FCS1.data[, Shared_Index, drop = FALSE]\n",
    "  F2_shared <- FCS2.data[, Matches[Shared_Index], drop = FALSE]\n",
    "\n",
    "  FCS1.data <- if (!is.null(Data1.nonshared)) cbind(F1_shared, Data1.nonshared) else F1_shared\n",
    "  VarNames1 <- c(colnames(F1_shared), VarNames1.non)\n",
    "\n",
    "  FCS2.data <- if (!is.null(Data2.nonshared)) cbind(F2_shared, Data2.nonshared) else F2_shared\n",
    "  VarNames2 <- c(colnames(F2_shared), VarNames2.non)\n",
    "\n",
    "  n1 <- nrow(FCS1.data); n2 <- nrow(FCS2.data)\n",
    "  p1 <- ncol(FCS1.data) - m\n",
    "  p2 <- ncol(FCS2.data) - m\n",
    "\n",
    "  # safe column ranges\n",
    "  shared_cols <- seq_len(m)\n",
    "  non1_cols   <- if (p1 > 0) (m + seq_len(p1)) else integer(0)\n",
    "  non2_cols   <- if (p2 > 0) (m + seq_len(p2)) else integer(0)\n",
    "\n",
    "  # KNN on shared block (cap k to available sample size)\n",
    "  k1 <- max(1L, min(k, n2)); k2 <- max(1L, min(k, n1))\n",
    "  alg1 <- if (n2 < 20L) \"brute\" else algorithm\n",
    "  alg2 <- if (n1 < 20L) \"brute\" else algorithm\n",
    "\n",
    "  IDX1 <- FNN::get.knnx(as.matrix(FCS2.data[, shared_cols, drop = FALSE]),\n",
    "                        as.matrix(FCS1.data[, shared_cols, drop = FALSE]),\n",
    "                        k = k1, algorithm = alg1)$nn.index\n",
    "  IDX2 <- FNN::get.knnx(as.matrix(FCS1.data[, shared_cols, drop = FALSE]),\n",
    "                        as.matrix(FCS2.data[, shared_cols, drop = FALSE]),\n",
    "                        k = k2, algorithm = alg2)$nn.index\n",
    "\n",
    "  # allocate combined: [shared | non1 | non2]\n",
    "  Data.combine.1 <- matrix(NA_real_, nrow = n1, ncol = m + p1 + p2)\n",
    "  Data.combine.2 <- matrix(NA_real_, nrow = n2, ncol = m + p1 + p2)\n",
    "  VarNames.combine <- c(colnames(F1_shared), VarNames1.non, VarNames2.non)\n",
    "\n",
    "  # fill shared & own non-shared\n",
    "  Data.combine.1[, shared_cols] <- as.matrix(FCS1.data[, shared_cols, drop = FALSE])\n",
    "  if (p1 > 0) Data.combine.1[, non1_cols] <- as.matrix(FCS1.data[, non1_cols, drop = FALSE])\n",
    "\n",
    "  Data.combine.2[, shared_cols] <- as.matrix(FCS2.data[, shared_cols, drop = FALSE])\n",
    "  if (p2 > 0) Data.combine.2[, m + p1 + seq_len(p2)] <- as.matrix(FCS2.data[, non2_cols, drop = FALSE])\n",
    "\n",
    "  # impute missing blocks only if they exist\n",
    "  if (p2 > 0) {\n",
    "    X2_non <- as.matrix(FCS2.data[, non2_cols, drop = FALSE])\n",
    "    for (i in seq_len(n1)) {\n",
    "      neigh <- X2_non[IDX1[i, , drop = FALSE], , drop = FALSE]\n",
    "      Data.combine.1[i, m + p1 + seq_len(p2)] <- apply(neigh, 2, stats::median, na.rm = TRUE)\n",
    "    }\n",
    "  }\n",
    "  if (p1 > 0) {\n",
    "    X1_non <- as.matrix(FCS1.data[, non1_cols, drop = FALSE])\n",
    "    for (i in seq_len(n2)) {\n",
    "      neigh <- X1_non[IDX2[i, , drop = FALSE], , drop = FALSE]\n",
    "      Data.combine.2[i, non1_cols] <- apply(neigh, 2, stats::median, na.rm = TRUE)\n",
    "    }\n",
    "  }\n",
    "\n",
    "  Data.combine <- rbind(Data.combine.1, Data.combine.2)\n",
    "  colnames(Data.combine) <- VarNames.combine\n",
    "  as.data.frame(Data.combine, check.names = FALSE)\n",
    "}\n"
   ]
  },
  {
   "cell_type": "code",
   "execution_count": 3,
   "metadata": {
    "vscode": {
     "languageId": "r"
    }
   },
   "outputs": [],
   "source": [
    "# load data\n",
    "expr  <- read.csv('/home/projects/amit/floriani/Lab/PROJECTS/FlowVI/data/2024-01-16_model_eval_multi_batch/2025-08-26_aurora_imputation_expression_scaled.csv')[,-1]\n",
    "md  <- read.csv('/home/projects/amit/floriani/Lab/PROJECTS/FlowVI/data/2024-01-16_model_eval_multi_batch/2024-07-05_aurora_imputation_obs.csv')[, -1]\n",
    "\n",
    "markers  <- colnames(expr)"
   ]
  },
  {
   "cell_type": "code",
   "execution_count": 4,
   "metadata": {
    "vscode": {
     "languageId": "r"
    }
   },
   "outputs": [],
   "source": [
    "expr[,'batch']  <- md$synth_batch\n",
    "expr[,'sample']  <- md$sample_id"
   ]
  },
  {
   "cell_type": "code",
   "execution_count": 5,
   "metadata": {
    "vscode": {
     "languageId": "r"
    }
   },
   "outputs": [],
   "source": [
    "expr_batch1  <- expr %>% filter(batch == '0') %>% select(-batch, -sample)\n",
    "expr_batch2  <- expr %>% filter(batch == '1') %>% select(-batch, -sample)"
   ]
  },
  {
   "cell_type": "code",
   "execution_count": 19,
   "metadata": {
    "vscode": {
     "languageId": "r"
    }
   },
   "outputs": [],
   "source": [
    "# loop over all markers and impute each one by leaving it out from batch 2\n",
    "imputed_list  <- list()\n",
    "\n",
    "for (mask_marker in markers){\n",
    "    BB_marker  <- setdiff(markers, mask_marker)\n",
    "\n",
    "    res  <- CombineFCS(expr_batch1, expr_batch2[,BB_marker], arcsinhTrans=FALSE)\n",
    "    imputed_list[[mask_marker]]  <- res[(nrow(expr_batch1)+1):nrow(res), mask_marker]\n",
    "}\n",
    "\n",
    "imputed_df  <- do.call(cbind, imputed_list)"
   ]
  },
  {
   "cell_type": "code",
   "execution_count": 9,
   "metadata": {
    "vscode": {
     "languageId": "r"
    }
   },
   "outputs": [],
   "source": [
    "write.csv(imputed_df, file = '/home/projects/amit/floriani/Lab/PROJECTS/FlowVI/data/2024-01-16_model_eval_multi_batch/2025-08-26_aurora_imputation_CyTOFmerge_imputed.csv')"
   ]
  }
 ],
 "metadata": {
  "kernelspec": {
   "display_name": "R (r_new)",
   "language": "R",
   "name": "r_new"
  },
  "language_info": {
   "codemirror_mode": "r",
   "file_extension": ".r",
   "mimetype": "text/x-r-source",
   "name": "R",
   "pygments_lexer": "r",
   "version": "4.3.3"
  }
 },
 "nbformat": 4,
 "nbformat_minor": 2
}
