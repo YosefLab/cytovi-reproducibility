{
 "cells": [
  {
   "cell_type": "markdown",
   "metadata": {},
   "source": [
    "# Cycombine for missing marker imputation"
   ]
  },
  {
   "cell_type": "code",
   "execution_count": 1,
   "metadata": {
    "vscode": {
     "languageId": "r"
    }
   },
   "outputs": [
    {
     "name": "stderr",
     "output_type": "stream",
     "text": [
      "\n",
      "Attaching package: ‘dplyr’\n",
      "\n",
      "\n",
      "The following objects are masked from ‘package:stats’:\n",
      "\n",
      "    filter, lag\n",
      "\n",
      "\n",
      "The following objects are masked from ‘package:base’:\n",
      "\n",
      "    intersect, setdiff, setequal, union\n",
      "\n",
      "\n"
     ]
    }
   ],
   "source": [
    "library(dplyr)\n",
    "library(cyCombine)"
   ]
  },
  {
   "cell_type": "code",
   "execution_count": 2,
   "metadata": {
    "vscode": {
     "languageId": "r"
    }
   },
   "outputs": [],
   "source": [
    "min_max_scale <- function(data, columns) {\n",
    "  columns <- intersect(columns, colnames(data))\n",
    "  \n",
    "  # scale each column\n",
    "  for (col in columns) {\n",
    "    min_val <- min(data[[col]], na.rm = TRUE)\n",
    "    max_val <- max(data[[col]], na.rm = TRUE)\n",
    "    \n",
    "    # apply scaling\n",
    "    data[[col]] <- (data[[col]] - min_val) / (max_val - min_val)\n",
    "  }\n",
    "  \n",
    "  return(data)\n",
    "}"
   ]
  },
  {
   "cell_type": "code",
   "execution_count": 5,
   "metadata": {
    "vscode": {
     "languageId": "r"
    }
   },
   "outputs": [],
   "source": [
    "# load data\n",
    "expr  <- read.csv('/home/projects/amit/floriani/Lab/PROJECTS/FlowVI/data/2024-01-16_model_eval_multi_batch/2025-08-26_aurora_imputation_expression_scaled.csv')[,-1]\n",
    "md  <- read.csv('/home/projects/amit/floriani/Lab/PROJECTS/FlowVI/data/2024-01-16_model_eval_multi_batch/2024-07-05_aurora_imputation_obs.csv')[, -1]\n",
    "\n",
    "markers  <- colnames(expr)"
   ]
  },
  {
   "cell_type": "code",
   "execution_count": null,
   "metadata": {
    "vscode": {
     "languageId": "r"
    }
   },
   "outputs": [],
   "source": [
    "expr[,'batch']  <- md$synth_batch\n",
    "expr[,'sample']  <- md$sample_id\n",
    "\n",
    "batch_mask  <- '1'\n",
    "imputed_list  <- list()\n",
    "\n",
    "for (mask_marker in markers){\n",
    "    BB_marker  <- setdiff(markers, mask_marker)\n",
    "\n",
    "    labels  <- expr %>% \n",
    "        normalize(markers = BB_marker, norm_method = 'scale') %>%\n",
    "        create_som(markers = BB_marker, rlen = 10)\n",
    "\n",
    "    corrected_expr <- expr %>%\n",
    "        correct_data(label = labels, markers = BB_marker)\n",
    "\n",
    "    cor_expr_batch0 <- corrected_expr %>%\n",
    "        filter(batch == '0')\n",
    "\n",
    "    cor_expr_batch1 <- corrected_expr %>%\n",
    "        filter(batch == '1')\n",
    "\n",
    "    imputed <- impute_across_panels(dataset1 = cor_expr_batch0, \n",
    "                                    dataset2 = cor_expr_batch1,\n",
    "                                    overlap_channels = BB_marker, \n",
    "                                    impute_channels1 = NULL,\n",
    "                                    impute_channels2 = mask_marker)\n",
    "\n",
    "    imputed_list[[mask_marker]]  <- imputed$dataset2[mask_marker]\n",
    "    }"
   ]
  },
  {
   "cell_type": "code",
   "execution_count": 8,
   "metadata": {
    "vscode": {
     "languageId": "r"
    }
   },
   "outputs": [],
   "source": [
    "imputed_df  <- bind_cols(imputed_list)"
   ]
  },
  {
   "cell_type": "code",
   "execution_count": 9,
   "metadata": {
    "vscode": {
     "languageId": "r"
    }
   },
   "outputs": [],
   "source": [
    "write.csv(imputed_df, file = '/home/projects/amit/floriani/Lab/PROJECTS/FlowVI/data/2024-01-16_model_eval_multi_batch/2025-08-26_aurora_imputation_cycombine_imputed.csv')"
   ]
  }
 ],
 "metadata": {
  "kernelspec": {
   "display_name": "R",
   "language": "R",
   "name": "ir"
  },
  "language_info": {
   "codemirror_mode": "r",
   "file_extension": ".r",
   "mimetype": "text/x-r-source",
   "name": "R",
   "pygments_lexer": "r",
   "version": "4.3.3"
  }
 },
 "nbformat": 4,
 "nbformat_minor": 2
}
